{
 "cells": [
  {
   "cell_type": "code",
   "execution_count": 12,
   "metadata": {},
   "outputs": [
    {
     "name": "stdout",
     "output_type": "stream",
     "text": [
      "Collecting openai==0.28\n",
      "  Obtaining dependency information for openai==0.28 from https://files.pythonhosted.org/packages/ae/59/911d6e5f1d7514d79c527067643376cddcf4cb8d1728e599b3b03ab51c69/openai-0.28.0-py3-none-any.whl.metadata\n",
      "  Downloading openai-0.28.0-py3-none-any.whl.metadata (13 kB)\n",
      "Requirement already satisfied: requests>=2.20 in /Users/az/anaconda3/envs/pythonhomework/lib/python3.11/site-packages (from openai==0.28) (2.31.0)\n",
      "Requirement already satisfied: tqdm in /Users/az/anaconda3/envs/pythonhomework/lib/python3.11/site-packages (from openai==0.28) (4.66.1)\n",
      "Collecting aiohttp (from openai==0.28)\n",
      "  Obtaining dependency information for aiohttp from https://files.pythonhosted.org/packages/97/e7/575ca16871071313a7a7a03fa055f0c3d52f77eb8583b373ac17fc87ec15/aiohttp-3.9.5-cp311-cp311-macosx_10_9_x86_64.whl.metadata\n",
      "  Downloading aiohttp-3.9.5-cp311-cp311-macosx_10_9_x86_64.whl.metadata (7.5 kB)\n",
      "Requirement already satisfied: charset-normalizer<4,>=2 in /Users/az/anaconda3/envs/pythonhomework/lib/python3.11/site-packages (from requests>=2.20->openai==0.28) (3.3.2)\n",
      "Requirement already satisfied: idna<4,>=2.5 in /Users/az/anaconda3/envs/pythonhomework/lib/python3.11/site-packages (from requests>=2.20->openai==0.28) (3.6)\n",
      "Requirement already satisfied: urllib3<3,>=1.21.1 in /Users/az/anaconda3/envs/pythonhomework/lib/python3.11/site-packages (from requests>=2.20->openai==0.28) (2.0.7)\n",
      "Requirement already satisfied: certifi>=2017.4.17 in /Users/az/anaconda3/envs/pythonhomework/lib/python3.11/site-packages (from requests>=2.20->openai==0.28) (2023.11.17)\n",
      "Collecting aiosignal>=1.1.2 (from aiohttp->openai==0.28)\n",
      "  Obtaining dependency information for aiosignal>=1.1.2 from https://files.pythonhosted.org/packages/76/ac/a7305707cb852b7e16ff80eaf5692309bde30e2b1100a1fcacdc8f731d97/aiosignal-1.3.1-py3-none-any.whl.metadata\n",
      "  Downloading aiosignal-1.3.1-py3-none-any.whl.metadata (4.0 kB)\n",
      "Requirement already satisfied: attrs>=17.3.0 in /Users/az/anaconda3/envs/pythonhomework/lib/python3.11/site-packages (from aiohttp->openai==0.28) (23.2.0)\n",
      "Collecting frozenlist>=1.1.1 (from aiohttp->openai==0.28)\n",
      "  Obtaining dependency information for frozenlist>=1.1.1 from https://files.pythonhosted.org/packages/af/b2/904500d6a162b98a70e510e743e7ea992241b4f9add2c8063bf666ca21df/frozenlist-1.4.1-cp311-cp311-macosx_10_9_x86_64.whl.metadata\n",
      "  Downloading frozenlist-1.4.1-cp311-cp311-macosx_10_9_x86_64.whl.metadata (12 kB)\n",
      "Collecting multidict<7.0,>=4.5 (from aiohttp->openai==0.28)\n",
      "  Obtaining dependency information for multidict<7.0,>=4.5 from https://files.pythonhosted.org/packages/21/db/3403263f158b0bc7b0d4653766d71cb39498973f2042eead27b2e9758782/multidict-6.0.5-cp311-cp311-macosx_10_9_x86_64.whl.metadata\n",
      "  Downloading multidict-6.0.5-cp311-cp311-macosx_10_9_x86_64.whl.metadata (4.2 kB)\n",
      "Collecting yarl<2.0,>=1.0 (from aiohttp->openai==0.28)\n",
      "  Obtaining dependency information for yarl<2.0,>=1.0 from https://files.pythonhosted.org/packages/3b/c5/81e3dbf5271ab1510860d2ae7a704ef43f93f7cb9326bf7ebb1949a7260b/yarl-1.9.4-cp311-cp311-macosx_10_9_x86_64.whl.metadata\n",
      "  Downloading yarl-1.9.4-cp311-cp311-macosx_10_9_x86_64.whl.metadata (31 kB)\n",
      "Downloading openai-0.28.0-py3-none-any.whl (76 kB)\n",
      "\u001b[2K   \u001b[90m━━━━━━━━━━━━━━━━━━━━━━━━━━━━━━━━━━━━━━━━\u001b[0m \u001b[32m76.5/76.5 kB\u001b[0m \u001b[31m1.9 MB/s\u001b[0m eta \u001b[36m0:00:00\u001b[0m\n",
      "\u001b[?25hDownloading aiohttp-3.9.5-cp311-cp311-macosx_10_9_x86_64.whl (402 kB)\n",
      "\u001b[2K   \u001b[90m━━━━━━━━━━━━━━━━━━━━━━━━━━━━━━━━━━━━━━━━\u001b[0m \u001b[32m402.4/402.4 kB\u001b[0m \u001b[31m7.0 MB/s\u001b[0m eta \u001b[36m0:00:00\u001b[0m:00:01\u001b[0m\n",
      "\u001b[?25hDownloading aiosignal-1.3.1-py3-none-any.whl (7.6 kB)\n",
      "Downloading frozenlist-1.4.1-cp311-cp311-macosx_10_9_x86_64.whl (55 kB)\n",
      "\u001b[2K   \u001b[90m━━━━━━━━━━━━━━━━━━━━━━━━━━━━━━━━━━━━━━━━\u001b[0m \u001b[32m55.3/55.3 kB\u001b[0m \u001b[31m2.0 MB/s\u001b[0m eta \u001b[36m0:00:00\u001b[0m\n",
      "\u001b[?25hDownloading multidict-6.0.5-cp311-cp311-macosx_10_9_x86_64.whl (30 kB)\n",
      "Downloading yarl-1.9.4-cp311-cp311-macosx_10_9_x86_64.whl (83 kB)\n",
      "\u001b[2K   \u001b[90m━━━━━━━━━━━━━━━━━━━━━━━━━━━━━━━━━━━━━━━━\u001b[0m \u001b[32m83.2/83.2 kB\u001b[0m \u001b[31m3.1 MB/s\u001b[0m eta \u001b[36m0:00:00\u001b[0m\n",
      "\u001b[?25hInstalling collected packages: multidict, frozenlist, yarl, aiosignal, aiohttp, openai\n",
      "Successfully installed aiohttp-3.9.5 aiosignal-1.3.1 frozenlist-1.4.1 multidict-6.0.5 openai-0.28.0 yarl-1.9.4\n"
     ]
    }
   ],
   "source": [
    "!pip install openai==0.28"
   ]
  },
  {
   "cell_type": "code",
   "execution_count": 13,
   "metadata": {},
   "outputs": [],
   "source": [
    "import os\n",
    "import pandas as pd\n",
    "import gzip\n",
    "import json"
   ]
  },
  {
   "cell_type": "code",
   "execution_count": 14,
   "metadata": {},
   "outputs": [
    {
     "name": "stdout",
     "output_type": "stream",
     "text": [
      "DataFrame reloaded successfully.\n"
     ]
    }
   ],
   "source": [
    "file_path = '/Users/az/Downloads/MACS30200_final_project/Data/Tokenized_Texts_1985.csv'\n",
    "\n",
    "# Reload the DataFrame\n",
    "preprocessed_df = pd.read_csv(file_path, encoding='utf-8-sig')\n",
    "\n",
    "# Convert the 'date' column to datetime format\n",
    "preprocessed_df['date'] = pd.to_datetime(preprocessed_df['date'])\n",
    "print(\"DataFrame reloaded successfully.\")"
   ]
  },
  {
   "cell_type": "code",
   "execution_count": 20,
   "metadata": {},
   "outputs": [
    {
     "data": {
      "text/plain": [
       "(375302, 5)"
      ]
     },
     "execution_count": 20,
     "metadata": {},
     "output_type": "execute_result"
    }
   ],
   "source": [
    "preprocessed_df.shape"
   ]
  },
  {
   "cell_type": "code",
   "execution_count": 18,
   "metadata": {},
   "outputs": [
    {
     "data": {
      "text/html": [
       "<div>\n",
       "<style scoped>\n",
       "    .dataframe tbody tr th:only-of-type {\n",
       "        vertical-align: middle;\n",
       "    }\n",
       "\n",
       "    .dataframe tbody tr th {\n",
       "        vertical-align: top;\n",
       "    }\n",
       "\n",
       "    .dataframe thead th {\n",
       "        text-align: right;\n",
       "    }\n",
       "</style>\n",
       "<table border=\"1\" class=\"dataframe\">\n",
       "  <thead>\n",
       "    <tr style=\"text-align: right;\">\n",
       "      <th></th>\n",
       "      <th>date</th>\n",
       "      <th>title</th>\n",
       "      <th>text</th>\n",
       "      <th>preprocessed_text</th>\n",
       "    </tr>\n",
       "  </thead>\n",
       "  <tbody>\n",
       "    <tr>\n",
       "      <th>0</th>\n",
       "      <td>1985-01-01</td>\n",
       "      <td>和衷共济搞四化——一九八五年元旦献词</td>\n",
       "      <td>和衷共济搞四化\\n    ——一九八五年元旦献词\\n    岁月之树又增添了一周新的...</td>\n",
       "      <td>和衷共济 搞 四化 \\n         一九八五年 元旦 献词 \\n   ...</td>\n",
       "    </tr>\n",
       "    <tr>\n",
       "      <th>1</th>\n",
       "      <td>1985-01-01</td>\n",
       "      <td>一九八五年一月上旬天气展望</td>\n",
       "      <td>一九八五年一月上旬天气展望\\n    据新华社北京12月31日电　中央气象台对198...</td>\n",
       "      <td>一九八五年 一月 上旬 天气 展望 \\n         新华社 北京 12...</td>\n",
       "    </tr>\n",
       "    <tr>\n",
       "      <th>2</th>\n",
       "      <td>1985-01-01</td>\n",
       "      <td>血液换出稀释法可治疗脑血栓</td>\n",
       "      <td>血液换出稀释法可治疗脑血栓\\n    山东省济宁市第二人民医院用血液换出稀释法治疗脑...</td>\n",
       "      <td>血液 换 出 稀释 法可 治疗 脑血栓 \\n         山东省 济宁市...</td>\n",
       "    </tr>\n",
       "    <tr>\n",
       "      <th>3</th>\n",
       "      <td>1985-01-01</td>\n",
       "      <td>玻利维亚紧张局势得到缓和  拒绝交权的前陆军司令奥尔维斯被迫投降</td>\n",
       "      <td>玻利维亚紧张局势得到缓和\\n    拒绝交权的前陆军司令奥尔维斯被迫投降\\n    ...</td>\n",
       "      <td>玻利维亚 紧张局势 得到 缓和 \\n         拒绝 交权 前 陆军 ...</td>\n",
       "    </tr>\n",
       "    <tr>\n",
       "      <th>4</th>\n",
       "      <td>1985-01-01</td>\n",
       "      <td>北京假肢科研所主体工程奠基</td>\n",
       "      <td>北京假肢科研所主体工程奠基\\n    本报讯  民政部北京假肢科研主体工程12月31...</td>\n",
       "      <td>北京 假肢 科研所 主体工程 奠基 \\n         本报讯     民...</td>\n",
       "    </tr>\n",
       "    <tr>\n",
       "      <th>...</th>\n",
       "      <td>...</td>\n",
       "      <td>...</td>\n",
       "      <td>...</td>\n",
       "      <td>...</td>\n",
       "    </tr>\n",
       "    <tr>\n",
       "      <th>95</th>\n",
       "      <td>1985-01-02</td>\n",
       "      <td>今天的黄洋界</td>\n",
       "      <td>今天的黄洋界\\n    金近\\n    我们刚进入井冈山，汽车沿着盘山公路一圈一圈地...</td>\n",
       "      <td>今天 黄洋界 \\n         金近 \\n         刚 进入 井...</td>\n",
       "    </tr>\n",
       "    <tr>\n",
       "      <th>96</th>\n",
       "      <td>1985-01-02</td>\n",
       "      <td>某师为建设泰山风景区做贡献</td>\n",
       "      <td>某师为建设泰山风景区做贡献\\n    本报讯  驻守在泰山脚下的济南军区某师开展“为...</td>\n",
       "      <td>某师 建设 泰山 风景区 做 贡献 \\n         本报讯     驻...</td>\n",
       "    </tr>\n",
       "    <tr>\n",
       "      <th>97</th>\n",
       "      <td>1985-01-02</td>\n",
       "      <td>我南极长城站奠基典礼在乔治岛举行</td>\n",
       "      <td>我南极长城站奠基典礼在乔治岛举行\\n    新华社乔治岛1984年12月31日电（联...</td>\n",
       "      <td>南极 长城站 奠基典礼 乔治岛 举行 \\n         新华社 乔治岛 ...</td>\n",
       "    </tr>\n",
       "    <tr>\n",
       "      <th>98</th>\n",
       "      <td>1985-01-02</td>\n",
       "      <td>西哈努克民族主义军  深入洞里萨湖地区打击越军</td>\n",
       "      <td>西哈努克民族主义军\\n    深入洞里萨湖地区打击越军\\n    新华社曼谷1月1日...</td>\n",
       "      <td>西哈努克 民族主义 军 \\n         深入 洞里萨湖 地区 打击 越...</td>\n",
       "    </tr>\n",
       "    <tr>\n",
       "      <th>99</th>\n",
       "      <td>1985-01-02</td>\n",
       "      <td>西德朝野人士发表谈话和文章  希望美苏外长日内瓦会谈有所进展</td>\n",
       "      <td>西德朝野人士发表谈话和文章\\n    希望美苏外长日内瓦会谈有所进展\\n    新华...</td>\n",
       "      <td>西德 朝野 人士 发表谈话 文章 \\n         希望 美苏 外长 日...</td>\n",
       "    </tr>\n",
       "  </tbody>\n",
       "</table>\n",
       "<p>100 rows × 4 columns</p>\n",
       "</div>"
      ],
      "text/plain": [
       "         date                             title  \\\n",
       "0  1985-01-01                和衷共济搞四化——一九八五年元旦献词   \n",
       "1  1985-01-01                     一九八五年一月上旬天气展望   \n",
       "2  1985-01-01                     血液换出稀释法可治疗脑血栓   \n",
       "3  1985-01-01  玻利维亚紧张局势得到缓和  拒绝交权的前陆军司令奥尔维斯被迫投降   \n",
       "4  1985-01-01                     北京假肢科研所主体工程奠基   \n",
       "..        ...                               ...   \n",
       "95 1985-01-02                            今天的黄洋界   \n",
       "96 1985-01-02                     某师为建设泰山风景区做贡献   \n",
       "97 1985-01-02                  我南极长城站奠基典礼在乔治岛举行   \n",
       "98 1985-01-02           西哈努克民族主义军  深入洞里萨湖地区打击越军   \n",
       "99 1985-01-02    西德朝野人士发表谈话和文章  希望美苏外长日内瓦会谈有所进展   \n",
       "\n",
       "                                                 text  \\\n",
       "0       和衷共济搞四化\\n    ——一九八五年元旦献词\\n    岁月之树又增添了一周新的...   \n",
       "1       一九八五年一月上旬天气展望\\n    据新华社北京12月31日电　中央气象台对198...   \n",
       "2       血液换出稀释法可治疗脑血栓\\n    山东省济宁市第二人民医院用血液换出稀释法治疗脑...   \n",
       "3       玻利维亚紧张局势得到缓和\\n    拒绝交权的前陆军司令奥尔维斯被迫投降\\n    ...   \n",
       "4       北京假肢科研所主体工程奠基\\n    本报讯  民政部北京假肢科研主体工程12月31...   \n",
       "..                                                ...   \n",
       "95      今天的黄洋界\\n    金近\\n    我们刚进入井冈山，汽车沿着盘山公路一圈一圈地...   \n",
       "96      某师为建设泰山风景区做贡献\\n    本报讯  驻守在泰山脚下的济南军区某师开展“为...   \n",
       "97      我南极长城站奠基典礼在乔治岛举行\\n    新华社乔治岛1984年12月31日电（联...   \n",
       "98      西哈努克民族主义军\\n    深入洞里萨湖地区打击越军\\n    新华社曼谷1月1日...   \n",
       "99      西德朝野人士发表谈话和文章\\n    希望美苏外长日内瓦会谈有所进展\\n    新华...   \n",
       "\n",
       "                                    preprocessed_text  \n",
       "0           和衷共济 搞 四化 \\n         一九八五年 元旦 献词 \\n   ...  \n",
       "1           一九八五年 一月 上旬 天气 展望 \\n         新华社 北京 12...  \n",
       "2           血液 换 出 稀释 法可 治疗 脑血栓 \\n         山东省 济宁市...  \n",
       "3           玻利维亚 紧张局势 得到 缓和 \\n         拒绝 交权 前 陆军 ...  \n",
       "4           北京 假肢 科研所 主体工程 奠基 \\n         本报讯     民...  \n",
       "..                                                ...  \n",
       "95          今天 黄洋界 \\n         金近 \\n         刚 进入 井...  \n",
       "96          某师 建设 泰山 风景区 做 贡献 \\n         本报讯     驻...  \n",
       "97          南极 长城站 奠基典礼 乔治岛 举行 \\n         新华社 乔治岛 ...  \n",
       "98          西哈努克 民族主义 军 \\n         深入 洞里萨湖 地区 打击 越...  \n",
       "99          西德 朝野 人士 发表谈话 文章 \\n         希望 美苏 外长 日...  \n",
       "\n",
       "[100 rows x 4 columns]"
      ]
     },
     "execution_count": 18,
     "metadata": {},
     "output_type": "execute_result"
    }
   ],
   "source": [
    "preprocessed_df.head(100)"
   ]
  },
  {
   "cell_type": "code",
   "execution_count": 21,
   "metadata": {},
   "outputs": [
    {
     "name": "stdout",
     "output_type": "stream",
     "text": [
      "Results saved successfully to 'classified_results.csv'.\n"
     ]
    }
   ],
   "source": [
    "import openai\n",
    "\n",
    "openai.api_key = 'sk-proj-BPropWZska4yQfnCUkNbT3BlbkFJugzDs2FfHFOdBFsqczuj'\n",
    "\n",
    "# Function to classify text using OpenAI\n",
    "def classify_text(text):\n",
    "    try:\n",
    "        response = openai.ChatCompletion.create(\n",
    "            model=\"gpt-3.5-turbo\",\n",
    "            messages=[\n",
    "                {\"role\": \"system\", \"content\": \"You are a classifier. Classify the following text into categories: Business, Military, Politics, Technology, Economy, Others. Your answer should only be composed by the word list below: Business, Military, Politics, Technology, Economy, Others. \"},\n",
    "                {\"role\": \"user\", \"content\": text}\n",
    "            ]\n",
    "        )\n",
    "        return response.choices[0].message['content'].strip()\n",
    "    except Exception as e:\n",
    "        return str(e)\n",
    "\n",
    "# Apply the classify_text function to the first 100 rows of the preprocessed_text column\n",
    "preprocessed_df['result'] = preprocessed_df['preprocessed_text'].head(100).apply(classify_text)\n",
    "\n",
    "# Save the resulting DataFrame with the first 100 rows to a new CSV file\n",
    "preprocessed_df.head(100).to_csv('/Users/az/Downloads/MACS30200_final_project/Results/classified_results.csv', index=False)\n",
    "\n",
    "print(\"Results saved successfully to 'classified_results.csv'.\")\n"
   ]
  },
  {
   "cell_type": "code",
   "execution_count": 27,
   "metadata": {},
   "outputs": [
    {
     "name": "stdout",
     "output_type": "stream",
     "text": [
      "Number of articles containing '扶贫': 2914\n"
     ]
    }
   ],
   "source": [
    "# Handle NaN values by replacing them with an empty string before filtering\n",
    "preprocessed_df['preprocessed_text'] = preprocessed_df['preprocessed_text'].fillna('')\n",
    "\n",
    "# Filter the DataFrame for rows where 'preprocessed_text' contains the word \"扶贫\"\n",
    "filtered_df = preprocessed_df[preprocessed_df['preprocessed_text'].str.contains(\"扶贫\")]\n",
    "\n",
    "# Save the filtered DataFrame to a new CSV file\n",
    "output_path = '/Users/az/Downloads/MACS30200_final_project/Data/poverty_alleviation_1985.csv'\n",
    "filtered_df.to_csv(output_path, index=False)\n",
    "\n",
    "# Print the number of articles containing \"扶贫\"\n",
    "print(f\"Number of articles containing '扶贫': {len(filtered_df)}\")"
   ]
  },
  {
   "cell_type": "markdown",
   "metadata": {},
   "source": [
    "Politics                 49\n",
    "Others                   17\n",
    "Military                 10\n",
    "Economy                   8\n",
    "Business                  7\n",
    "Technology                6\n",
    "Business, Economy.        1\n",
    "Sports                    1\n",
    "After a manual check, the gpt is able to identify most of the politics content, but 13/17 are also political content. "
   ]
  },
  {
   "cell_type": "code",
   "execution_count": 8,
   "metadata": {},
   "outputs": [
    {
     "name": "stdout",
     "output_type": "stream",
     "text": [
      "Expanded words list: ['扶贫', '脱贫', '脱贫致富', '致富路', '济弱', '救困', '助孤', '助弱', '扶困', '恤孤', '扶残']\n"
     ]
    }
   ],
   "source": [
    "import gensim\n",
    "from gensim.models.fasttext import load_facebook_model\n",
    "\n",
    "# Load a pre-trained Chinese word embedding model\n",
    "model_path = '/Users/az/Downloads/MACS30200_final_project/Model/cc.zh.300.bin'\n",
    "model = load_facebook_model(model_path)\n",
    "\n",
    "# Define your seed word\n",
    "initial_words = ['扶贫']  # Start with the known poverty-related seed word\n",
    "\n",
    "# Function to find new related words based on cosine similarity\n",
    "def expand_words(seed_words, model, num_new_words=10):\n",
    "    new_words = list(seed_words)\n",
    "\n",
    "    while len(new_words) < len(seed_words) + num_new_words:\n",
    "        highest_similarity_word = None\n",
    "        highest_similarity = 0\n",
    "        \n",
    "        # Compute the highest similarity word that is not already in new_words\n",
    "        for word in new_words:\n",
    "            if word in model.wv.key_to_index:  # Use .key_to_index for Gensim 4.x\n",
    "                similar_words = model.wv.most_similar(word, topn=100)\n",
    "                for w, sim in similar_words:\n",
    "                    if sim > highest_similarity and w not in new_words:\n",
    "                        highest_similarity_word = w\n",
    "                        highest_similarity = sim\n",
    "\n",
    "        # Check if a new word was found\n",
    "        if highest_similarity_word:\n",
    "            new_words.append(highest_similarity_word)\n",
    "        else:\n",
    "            print(\"No new word meeting the criteria was found.\")\n",
    "            break\n",
    "\n",
    "    return new_words\n",
    "\n",
    "# Expand the word list\n",
    "expanded_words = expand_words(initial_words, model)\n",
    "print(\"Expanded words list:\", expanded_words)\n",
    "\n",
    "\n"
   ]
  },
  {
   "cell_type": "code",
   "execution_count": 11,
   "metadata": {},
   "outputs": [
    {
     "name": "stdout",
     "output_type": "stream",
     "text": [
      "Number of articles containing keywords related to poverty alleviation: 5103\n"
     ]
    }
   ],
   "source": [
    "import pandas as pd\n",
    "\n",
    "file_path = '/Users/az/Downloads/MACS30200_final_project/Data/Tokenized_Texts_1985.csv'\n",
    "\n",
    "# Reload the DataFrame with the specified encoding\n",
    "preprocessed_df = pd.read_csv(file_path, encoding='utf-8-sig')\n",
    "\n",
    "# Handle NaN values by replacing them with an empty string before filtering\n",
    "preprocessed_df['preprocessed_text'] = preprocessed_df['preprocessed_text'].fillna('')\n",
    "\n",
    "# Define the list of keywords related to poverty alleviation\n",
    "keywords = ['扶贫', '脱贫', '脱贫致富', '致富路', '济弱', '救困', '助孤', '助弱', '扶困', '恤孤', '扶残']\n",
    "\n",
    "# Filter the DataFrame for rows where 'preprocessed_text' contains any of the keywords\n",
    "pattern = '|'.join(keywords)  # Create a pattern string using regex OR operator\n",
    "filtered_df = preprocessed_df[preprocessed_df['preprocessed_text'].str.contains(pattern)]\n",
    "\n",
    "# Save the filtered DataFrame to a new CSV file\n",
    "output_path = '/Users/az/Downloads/MACS30200_final_project/Data/poverty_alleviation_1985.csv'\n",
    "filtered_df.to_csv(output_path, index=False)\n",
    "\n",
    "# Print the number of articles containing any of the keywords\n",
    "print(f\"Number of articles containing keywords related to poverty alleviation: {len(filtered_df)}\")"
   ]
  },
  {
   "cell_type": "code",
   "execution_count": 1,
   "metadata": {},
   "outputs": [
    {
     "name": "stdout",
     "output_type": "stream",
     "text": [
      "Number of articles per year:\n",
      "date\n",
      "1985    34303\n",
      "1986    33491\n",
      "1987    32680\n",
      "1988    33551\n",
      "1989    30046\n",
      "1990    31719\n",
      "1991    33827\n",
      "1992    37365\n",
      "1993    36511\n",
      "1994    34001\n",
      "1995    37630\n",
      "Name: text, dtype: int64\n"
     ]
    }
   ],
   "source": [
    "import pandas as pd\n",
    "\n",
    "file_path = '/Users/az/Downloads/MACS30200_final_project/Data/Tokenized_Texts_1985.csv'\n",
    "\n",
    "# Reload the DataFrame\n",
    "preprocessed_df = pd.read_csv(file_path, encoding='utf-8-sig')\n",
    "preprocessed_df['date'] = pd.to_datetime(preprocessed_df['date'])\n",
    "articles_per_year = preprocessed_df.groupby(preprocessed_df['date'].dt.year)['text'].count()\n",
    "\n",
    "# Print the number of articles per year\n",
    "print(\"Number of articles per year:\")\n",
    "print(articles_per_year)"
   ]
  },
  {
   "cell_type": "code",
   "execution_count": 3,
   "metadata": {},
   "outputs": [
    {
     "name": "stdout",
     "output_type": "stream",
     "text": [
      "Number of filtered articles per year:\n",
      "date\n",
      "1985    195\n",
      "1986    505\n",
      "1987    470\n",
      "1988    341\n",
      "1989    294\n",
      "1990    442\n",
      "1991    438\n",
      "1992    458\n",
      "1993    405\n",
      "1994    683\n",
      "1995    872\n",
      "Name: text, dtype: int64\n"
     ]
    }
   ],
   "source": [
    "output_path = '/Users/az/Downloads/MACS30200_final_project/Data/poverty_alleviation_1985.csv'\n",
    "# Reload the DataFrame\n",
    "filtered_df = pd.read_csv(output_path, encoding='utf-8-sig')\n",
    "filtered_df['date'] = pd.to_datetime(filtered_df['date'])\n",
    "filtered_articles_per_year = filtered_df.groupby(filtered_df['date'].dt.year)['text'].count()\n",
    "\n",
    "# Print the number of articles per year\n",
    "print(\"Number of filtered articles per year:\")\n",
    "print(filtered_articles_per_year)"
   ]
  },
  {
   "cell_type": "code",
   "execution_count": 5,
   "metadata": {},
   "outputs": [
    {
     "data": {
      "image/png": "[encoded data removed]",
      "text/plain": [
       "<Figure size 1000x500 with 1 Axes>"
      ]
     },
     "metadata": {},
     "output_type": "display_data"
    }
   ],
   "source": [
    "import matplotlib.pyplot as plt\n",
    "\n",
    "percentage_articles = (filtered_articles_per_year / articles_per_year * 100).dropna()\n",
    "\n",
    "# Plotting the data\n",
    "plt.figure(figsize=(10, 5))\n",
    "percentage_articles.plot(kind='line', marker='o')\n",
    "plt.title('Percentage of Articles Related to Poverty Reduction vs All Articles per Year')\n",
    "plt.xlabel('Year')\n",
    "plt.ylabel('Percentage (%)')\n",
    "plt.grid(True)\n",
    "plt.show()"
   ]
  },
  {
   "cell_type": "code",
   "execution_count": null,
   "metadata": {},
   "outputs": [],
   "source": []
  }
 ],
 "metadata": {
  "kernelspec": {
   "display_name": "pythonhomework",
   "language": "python",
   "name": "python3"
  },
  "language_info": {
   "codemirror_mode": {
    "name": "ipython",
    "version": 3
   },
   "file_extension": ".py",
   "mimetype": "text/x-python",
   "name": "python",
   "nbconvert_exporter": "python",
   "pygments_lexer": "ipython3",
   "version": "3.11.5"
  }
 },
 "nbformat": 4,
 "nbformat_minor": 2
}
